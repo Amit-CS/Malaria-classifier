{
  "nbformat": 4,
  "nbformat_minor": 0,
  "metadata": {
    "colab": {
      "name": "MC.ipynb",
      "provenance": [],
      "collapsed_sections": []
    },
    "kernelspec": {
      "name": "python3",
      "display_name": "Python 3"
    },
    "accelerator": "GPU"
  },
  "cells": [
    {
      "cell_type": "code",
      "metadata": {
        "id": "Ene-8n_Nv4gS",
        "colab_type": "code",
        "colab": {
          "base_uri": "https://localhost:8080/",
          "height": 459
        },
        "outputId": "56ee3177-6951-45b0-9294-883d9f98b37f"
      },
      "source": [
        "!pip install split-folders tqdm\n",
        "!pip install -U -q kaggle\n",
        "!apt install pv\n",
        "!pip install -U -q PyDrive"
      ],
      "execution_count": 5,
      "outputs": [
        {
          "output_type": "stream",
          "text": [
            "Collecting split-folders\n",
            "  Downloading https://files.pythonhosted.org/packages/d1/4b/7b282b0f9319189d71e803220748929b37d019b67b1782d14c59cb1bd940/split_folders-0.4.2-py3-none-any.whl\n",
            "Requirement already satisfied: tqdm in /usr/local/lib/python3.6/dist-packages (4.41.1)\n",
            "Installing collected packages: split-folders\n",
            "Successfully installed split-folders-0.4.2\n",
            "Reading package lists... Done\n",
            "Building dependency tree       \n",
            "Reading state information... Done\n",
            "The following package was automatically installed and is no longer required:\n",
            "  libnvidia-common-440\n",
            "Use 'apt autoremove' to remove it.\n",
            "Suggested packages:\n",
            "  doc-base\n",
            "The following NEW packages will be installed:\n",
            "  pv\n",
            "0 upgraded, 1 newly installed, 0 to remove and 35 not upgraded.\n",
            "Need to get 48.3 kB of archives.\n",
            "After this operation, 123 kB of additional disk space will be used.\n",
            "Get:1 http://archive.ubuntu.com/ubuntu bionic/main amd64 pv amd64 1.6.6-1 [48.3 kB]\n",
            "Fetched 48.3 kB in 1s (87.6 kB/s)\n",
            "Selecting previously unselected package pv.\n",
            "(Reading database ... 144487 files and directories currently installed.)\n",
            "Preparing to unpack .../archives/pv_1.6.6-1_amd64.deb ...\n",
            "Unpacking pv (1.6.6-1) ...\n",
            "Setting up pv (1.6.6-1) ...\n",
            "Processing triggers for man-db (2.8.3-2ubuntu0.1) ...\n"
          ],
          "name": "stdout"
        }
      ]
    },
    {
      "cell_type": "code",
      "metadata": {
        "id": "jYepCM3QwBSs",
        "colab_type": "code",
        "colab": {
          "base_uri": "https://localhost:8080/",
          "height": 71
        },
        "outputId": "ea19a5e5-8289-448a-f80c-2a98beae4295"
      },
      "source": [
        "import pandas as pd\n",
        "import numpy as np\n",
        "import os\n",
        "import keras\n",
        "import matplotlib.pyplot as plt\n",
        "import splitfolders\n",
        "import seaborn as sns\n",
        "import matplotlib.pyplot as plt\n",
        "from keras.layers import Dense,GlobalAveragePooling2D\n",
        "from keras.applications import MobileNet\n",
        "from keras.preprocessing import image\n",
        "from keras.applications.mobilenet import preprocess_input\n",
        "from keras.preprocessing.image import ImageDataGenerator\n",
        "from keras.models import Model\n",
        "from keras.optimizers import Adam\n",
        "from google.colab import files\n",
        "from pydrive.auth import GoogleAuth\n",
        "from pydrive.drive import GoogleDrive\n",
        "from google.colab import auth\n",
        "from oauth2client.client import GoogleCredentials"
      ],
      "execution_count": 6,
      "outputs": [
        {
          "output_type": "stream",
          "text": [
            "/usr/local/lib/python3.6/dist-packages/statsmodels/tools/_testing.py:19: FutureWarning: pandas.util.testing is deprecated. Use the functions in the public API at pandas.testing instead.\n",
            "  import pandas.util.testing as tm\n"
          ],
          "name": "stderr"
        }
      ]
    },
    {
      "cell_type": "markdown",
      "metadata": {
        "id": "h_3jBou7oTLO",
        "colab_type": "text"
      },
      "source": [
        "## Get the dataset and split it into test train and eval sets"
      ]
    },
    {
      "cell_type": "markdown",
      "metadata": {},
      "source": [
        "Upload your Kaggle Json API key"
      ]
    },
    {
      "cell_type": "code",
      "execution_count": null,
      "metadata": {},
      "outputs": [],
      "source": [
        "files.upload()"
      ]
    },
    {
      "cell_type": "code",
      "metadata": {
        "id": "QbvoE_vUo51g",
        "colab_type": "code",
        "colab": {
          "base_uri": "https://localhost:8080/",
          "height": 85
        },
        "outputId": "f58b16d7-4dc8-4056-abc4-0f159fc1ce5d"
      },
      "source": [
        "!mkdir -p ~/.kaggle\n",
        "!cp kaggle.json ~/.kaggle/\n",
        "\n",
        "!kaggle datasets download -d iarunava/cell-images-for-detecting-malaria"
      ],
      "execution_count": 9,
      "outputs": [
        {
          "output_type": "stream",
          "text": [
            "Warning: Your Kaggle API key is readable by other users on this system! To fix this, you can run 'chmod 600 /root/.kaggle/kaggle.json'\n",
            "Downloading cell-images-for-detecting-malaria.zip to /content\n",
            " 98% 659M/675M [00:09<00:00, 86.2MB/s]\n",
            "100% 675M/675M [00:10<00:00, 70.0MB/s]\n"
          ],
          "name": "stdout"
        }
      ]
    },
    {
      "cell_type": "code",
      "metadata": {
        "id": "xPJzUVt1wl6N",
        "colab_type": "code",
        "colab": {
          "base_uri": "https://localhost:8080/",
          "height": 34
        },
        "outputId": "789e8a14-f1c5-4fa0-839c-d5941f57acd0"
      },
      "source": [
        "!unzip -o /content/cell-images-for-detecting-malaria.zip| pv -l >/dev/null\n",
        "os.remove('cell-images-for-detecting-malaria.zip')"
      ],
      "execution_count": 10,
      "outputs": [
        {
          "output_type": "stream",
          "text": [
            "55.1k 0:00:09 [5.79k/s] [          <=>                                         ]\n"
          ],
          "name": "stdout"
        }
      ]
    },
    {
      "cell_type": "code",
      "metadata": {
        "id": "Sz8SYP4cw1K2",
        "colab_type": "code",
        "colab": {
          "base_uri": "https://localhost:8080/",
          "height": 34
        },
        "outputId": "27458ec7-36dd-4539-9986-27f47fb94472"
      },
      "source": [
        "splitfolders.ratio(\"/content/cell_images/cell_images\", output=\"/content/cell_images/cell_images_split\", seed=1337, ratio=(.8, .1, .1), group_prefix=None)"
      ],
      "execution_count": 11,
      "outputs": [
        {
          "output_type": "stream",
          "text": [
            "Copying files: 27560 files [00:04, 6642.27 files/s]\n"
          ],
          "name": "stderr"
        }
      ]
    },
    {
      "cell_type": "markdown",
      "metadata": {
        "id": "LisKjzU_yjk8",
        "colab_type": "text"
      },
      "source": [
        "## Generate the model using TensorFlow & Keras"
      ]
    },
    {
      "cell_type": "code",
      "metadata": {
        "id": "sa-d07JPyvMX",
        "colab_type": "code",
        "colab": {
          "base_uri": "https://localhost:8080/",
          "height": 68
        },
        "outputId": "21accb68-d57a-4334-f2ff-32efeea39387"
      },
      "source": [
        "base_model=MobileNet(weights='imagenet',include_top=False)\n",
        "\n",
        "x=base_model.output\n",
        "x=GlobalAveragePooling2D()(x)\n",
        "x=Dense(1024,activation='relu')(x) \n",
        "x=Dense(1024,activation='relu')(x) \n",
        "x=Dense(512,activation='relu')(x) ]\n",
        "preds=Dense(2,activation='softmax')(x) "
      ],
      "execution_count": 12,
      "outputs": [
        {
          "output_type": "stream",
          "text": [
            "WARNING:tensorflow:`input_shape` is undefined or non-square, or `rows` is not in [128, 160, 192, 224]. Weights for input shape (224, 224) will be loaded as the default.\n",
            "Downloading data from https://storage.googleapis.com/tensorflow/keras-applications/mobilenet/mobilenet_1_0_224_tf_no_top.h5\n",
            "17227776/17225924 [==============================] - 0s 0us/step\n"
          ],
          "name": "stdout"
        }
      ]
    },
    {
      "cell_type": "code",
      "metadata": {
        "id": "XQKKxRZbyzEF",
        "colab_type": "code",
        "colab": {}
      },
      "source": [
        "model=Model(inputs=base_model.input,outputs=preds)\n",
        "\n",
        "for layer in model.layers[:20]:\n",
        "    layer.trainable=False\n",
        "for layer in model.layers[20:]:\n",
        "    layer.trainable=True"
      ],
      "execution_count": 13,
      "outputs": []
    },
    {
      "cell_type": "code",
      "metadata": {
        "id": "GOS64-_Vy6_U",
        "colab_type": "code",
        "colab": {
          "base_uri": "https://localhost:8080/",
          "height": 714
        },
        "outputId": "9329982c-478e-4512-de35-7129586c3f5c"
      },
      "source": [
        "train_datagen= ImageDataGenerator(preprocessing_function=preprocess_input)\n",
        "\n",
        "train_generator=train_datagen.flow_from_directory('/content/cell_images/cell_images_split/train',\n",
        "                                                  target_size=(224,224),\n",
        "                                                  color_mode='rgb',\n",
        "                                                  batch_size=32,\n",
        "                                                  class_mode='categorical', shuffle=True)\n",
        "\n",
        "\n",
        "model.compile(optimizer='Adam',loss='categorical_crossentropy',metrics=['accuracy'])\n",
        "\n",
        "step_size_train=train_generator.n//train_generator.batch_size\n",
        "hist = model.fit_generator(generator=train_generator,\n",
        "                   steps_per_epoch=step_size_train,\n",
        "                   epochs=20)"
      ],
      "execution_count": 19,
      "outputs": [
        {
          "output_type": "stream",
          "text": [
            "Found 22046 images belonging to 2 classes.\n",
            "Epoch 1/20\n",
            "688/688 [==============================] - 59s 86ms/step - loss: 0.0937 - accuracy: 0.9680\n",
            "Epoch 2/20\n",
            "688/688 [==============================] - 59s 86ms/step - loss: 0.0868 - accuracy: 0.9683\n",
            "Epoch 3/20\n",
            "688/688 [==============================] - 59s 86ms/step - loss: 0.0730 - accuracy: 0.9731\n",
            "Epoch 4/20\n",
            "688/688 [==============================] - 59s 86ms/step - loss: 0.0634 - accuracy: 0.9772\n",
            "Epoch 5/20\n",
            "688/688 [==============================] - 59s 86ms/step - loss: 0.0592 - accuracy: 0.9784\n",
            "Epoch 6/20\n",
            "688/688 [==============================] - 59s 85ms/step - loss: 0.0479 - accuracy: 0.9825\n",
            "Epoch 7/20\n",
            "688/688 [==============================] - 59s 86ms/step - loss: 0.0428 - accuracy: 0.9845\n",
            "Epoch 8/20\n",
            "688/688 [==============================] - 59s 86ms/step - loss: 0.0366 - accuracy: 0.9871\n",
            "Epoch 9/20\n",
            "688/688 [==============================] - 59s 86ms/step - loss: 0.0332 - accuracy: 0.9881\n",
            "Epoch 10/20\n",
            "688/688 [==============================] - 59s 86ms/step - loss: 0.0352 - accuracy: 0.9882\n",
            "Epoch 11/20\n",
            "688/688 [==============================] - 59s 86ms/step - loss: 0.0248 - accuracy: 0.9918\n",
            "Epoch 12/20\n",
            "688/688 [==============================] - 59s 86ms/step - loss: 0.0166 - accuracy: 0.9936\n",
            "Epoch 13/20\n",
            "688/688 [==============================] - 59s 86ms/step - loss: 0.0171 - accuracy: 0.9940\n",
            "Epoch 14/20\n",
            "688/688 [==============================] - 59s 86ms/step - loss: 0.0200 - accuracy: 0.9927\n",
            "Epoch 15/20\n",
            "688/688 [==============================] - 59s 86ms/step - loss: 0.0205 - accuracy: 0.9930\n",
            "Epoch 16/20\n",
            "688/688 [==============================] - 59s 86ms/step - loss: 0.0127 - accuracy: 0.9958\n",
            "Epoch 17/20\n",
            "688/688 [==============================] - 59s 86ms/step - loss: 0.0153 - accuracy: 0.9943\n",
            "Epoch 18/20\n",
            "688/688 [==============================] - 59s 86ms/step - loss: 0.0219 - accuracy: 0.9936\n",
            "Epoch 19/20\n",
            "688/688 [==============================] - 59s 86ms/step - loss: 0.0101 - accuracy: 0.9966\n",
            "Epoch 20/20\n",
            "688/688 [==============================] - 59s 86ms/step - loss: 0.0070 - accuracy: 0.9975\n"
          ],
          "name": "stdout"
        }
      ]
    },
    {
      "cell_type": "markdown",
      "metadata": {
        "id": "BzvyYLtAwt3D",
        "colab_type": "text"
      },
      "source": [
        "## Saving the Model"
      ]
    },
    {
      "cell_type": "code",
      "metadata": {
        "id": "_LyZwa_owtlf",
        "colab_type": "code",
        "colab": {
          "base_uri": "https://localhost:8080/",
          "height": 34
        },
        "outputId": "499a350a-7e8e-4130-b9ec-a333866c5dcc"
      },
      "source": [
        "auth.authenticate_user()\n",
        "gauth = GoogleAuth()\n",
        "gauth.credentials = GoogleCredentials.get_application_default()\n",
        "drive = GoogleDrive(gauth)\n",
        "\n",
        "model.save('model.h5')    \n",
        "model_file = drive.CreateFile({'title' : 'model.h5'})\n",
        "model_file.SetContentFile('model.h5')\n",
        "model_file.Upload()\n",
        "\n",
        "drive.CreateFile({'id': model_file.get('id')})"
      ],
      "execution_count": 20,
      "outputs": [
        {
          "output_type": "execute_result",
          "data": {
            "text/plain": [
              "GoogleDriveFile({'id': '1bWNEm5QXiCwpZHXXkU2ZCvFNfJaGU0cH'})"
            ]
          },
          "metadata": {
            "tags": []
          },
          "execution_count": 20
        }
      ]
    },
    {
      "cell_type": "markdown",
      "metadata": {
        "id": "oNFYU2qY1SlK",
        "colab_type": "text"
      },
      "source": [
        "## Evaluating the model"
      ]
    },
    {
      "cell_type": "code",
      "metadata": {
        "id": "eG69IAOnCb4R",
        "colab_type": "code",
        "colab": {
          "base_uri": "https://localhost:8080/",
          "height": 573
        },
        "outputId": "13be1172-f18d-4d96-c1f6-609fdd5917f1"
      },
      "source": [
        "def plotLearningCurve(hist,epochs):\n",
        "  epochRange = range(1,epochs+1)\n",
        "  plt.plot(epochRange,hist.history['accuracy'])\n",
        " \n",
        "  plt.title('Model Accuracy')\n",
        "  plt.xlabel('Epoch')\n",
        "  plt.ylabel('Accuracy')\n",
        "  plt.legend(['Train'],loc='upper left')\n",
        "  plt.show()\n",
        "\n",
        "  plt.plot(epochRange,hist.history['loss'])\n",
        "  plt.title('Model Loss')\n",
        "  plt.xlabel('Epoch')\n",
        "  plt.ylabel('Loss')\n",
        "  plt.legend(['Train'],loc='upper left')\n",
        "  plt.show()\n",
        "\n",
        "plotLearningCurve(hist,20)"
      ],
      "execution_count": 29,
      "outputs": [
        {
          "output_type": "display_data",
          "data": {
            "image/png": "[encoded data removed]",
            "text/plain": [
              "<Figure size 432x288 with 1 Axes>"
            ]
          },
          "metadata": {
            "tags": [],
            "needs_background": "light"
          }
        },
        {
          "output_type": "display_data",
          "data": {
            "image/png": "[encoded data removed]",
            "text/plain": [
              "<Figure size 432x288 with 1 Axes>"
            ]
          },
          "metadata": {
            "tags": [],
            "needs_background": "light"
          }
        }
      ]
    }
  ]
}